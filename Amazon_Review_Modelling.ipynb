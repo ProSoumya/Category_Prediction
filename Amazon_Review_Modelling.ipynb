{
  "nbformat": 4,
  "nbformat_minor": 2,
  "metadata": {
    "accelerator": "TPU",
    "colab": {
      "name": "Amazon_Review_Modelling.ipynb",
      "provenance": [],
      "collapsed_sections": []
    },
    "kernelspec": {
      "name": "python3",
      "display_name": "Python 3.8.11 64-bit ('DeepLearning': conda)"
    },
    "language_info": {
      "name": "python",
      "version": "3.8.11"
    },
    "interpreter": {
      "hash": "08b4c58f704fb0152158ac8ce4129e836d33f9ac5fef91635b738f9c1f754df6"
    }
  },
  "cells": [
    {
      "cell_type": "code",
      "execution_count": null,
      "source": [
        "import re\r\n",
        "import gzip\r\n",
        "import nltk\r\n",
        "import string\r\n",
        "import gensim\r\n",
        "import seaborn as sns\r\n",
        "import pandas as pd\r\n",
        "import numpy as np\r\n",
        "import tensorflow as tf \r\n",
        "import contractions as contr\r\n",
        "import matplotlib.pyplot as plt\r\n",
        "\r\n",
        "from sklearn.model_selection import train_test_split\r\n",
        "from nltk.tokenize import word_tokenize\r\n",
        "from nltk.corpus import stopwords\r\n",
        "stop_words=stopwords.words('english')\r\n",
        "from termcolor import colored\r\n",
        "\r\n",
        "pd.set_option('display.max_rows', None)\r\n",
        "pd.set_option('display.max_columns', None)\r\n",
        "pd.set_option('display.width', None)\r\n",
        "\r\n",
        "\r\n",
        "#Data Preprocessing Libraries\r\n",
        "from tensorflow.keras.preprocessing.text import Tokenizer\r\n",
        "from tensorflow.keras.preprocessing.sequence import pad_sequences\r\n",
        "from tensorflow.keras import Sequential\r\n",
        "\r\n",
        "\r\n",
        "#model evaluation libaries\r\n",
        "from keras.callbacks import EarlyStopping\r\n",
        "from sklearn.metrics import confusion_matrix"
      ],
      "outputs": [],
      "metadata": {
        "id": "wOLeUQpNFPcH"
      }
    },
    {
      "cell_type": "code",
      "execution_count": null,
      "source": [
        "#Reading the JSON files and converting to Dataframe \r\n",
        "def parse(path):\r\n",
        "  g = gzip.open(path, 'rb')\r\n",
        "  for l in g:\r\n",
        "    yield eval(l)\r\n",
        "\r\n",
        "def getDF(path):\r\n",
        "  i = 0\r\n",
        "  df = {}\r\n",
        "  for d in parse(path):\r\n",
        "    df[i] = d\r\n",
        "    i += 1\r\n",
        "  return pd.DataFrame.from_dict(df, orient='index')"
      ],
      "outputs": [],
      "metadata": {
        "id": "_E48TkPg0_5E"
      }
    },
    {
      "cell_type": "code",
      "execution_count": null,
      "source": [
        "beauty_df= getDF('/content/MyDrive/MyDrive/Datasets/reviews_Beauty_5.json.gz')"
      ],
      "outputs": [],
      "metadata": {
        "id": "NjFP5sH5GDQk"
      }
    },
    {
      "cell_type": "code",
      "execution_count": null,
      "source": [
        "grocery_df= getDF('/content/MyDrive/MyDrive/Datasets/reviews_Grocery_and_Gourmet_Food_5.json.gz')"
      ],
      "outputs": [],
      "metadata": {
        "id": "DVH1YFX8IEkO"
      }
    },
    {
      "cell_type": "code",
      "execution_count": null,
      "source": [
        "phone_df= getDF('/content/MyDrive/MyDrive/Datasets/reviews_Cell_Phones_and_Accessories_5.json.gz')"
      ],
      "outputs": [],
      "metadata": {
        "id": "YO_KqeoIIQAp"
      }
    },
    {
      "cell_type": "code",
      "execution_count": null,
      "source": [
        "music_df=getDF('/content/MyDrive/MyDrive/Datasets/reviews_Musical_Instruments_5.json.gz')"
      ],
      "outputs": [],
      "metadata": {
        "id": "a_TVfo3MIayh"
      }
    },
    {
      "cell_type": "code",
      "execution_count": null,
      "source": [
        "office_df=getDF('/content/MyDrive/MyDrive/Datasets/reviews_Office_Products_5.json.gz')"
      ],
      "outputs": [],
      "metadata": {
        "id": "yBeAbUDbIlcz"
      }
    },
    {
      "cell_type": "code",
      "execution_count": null,
      "source": [
        "lawn_df=getDF('/content/MyDrive/MyDrive/Datasets/reviews_Patio_Lawn_and_Garden_5.json.gz')"
      ],
      "outputs": [],
      "metadata": {
        "id": "BATk19LrIpjS"
      }
    },
    {
      "cell_type": "code",
      "execution_count": null,
      "source": [
        "toys_df=getDF('/content/MyDrive/MyDrive/Datasets/reviews_Toys_and_Games_5.json.gz')"
      ],
      "outputs": [],
      "metadata": {
        "id": "ieF1li1TItqW"
      }
    },
    {
      "cell_type": "code",
      "execution_count": null,
      "source": [
        "pet_df=getDF('/content/MyDrive/MyDrive/Datasets/reviews_Pet_Supplies_5.json.gz')"
      ],
      "outputs": [],
      "metadata": {
        "id": "MgOeswuQIxiK"
      }
    },
    {
      "cell_type": "code",
      "execution_count": null,
      "source": [
        "beauty_df.drop(['reviewerID','asin','reviewerName','helpful','unixReviewTime','reviewTime','summary'],inplace=True,axis=1)\r\n",
        "grocery_df.drop(['reviewerID','asin','reviewerName','helpful','unixReviewTime','reviewTime','summary'],inplace=True,axis=1)\r\n",
        "phone_df.drop(['reviewerID','asin','reviewerName','helpful','unixReviewTime','reviewTime','summary'],inplace=True,axis=1)\r\n",
        "music_df.drop(['reviewerID','asin','reviewerName','helpful','unixReviewTime','reviewTime','summary'],inplace=True,axis=1)\r\n",
        "office_df.drop(['reviewerID','asin','reviewerName','helpful','unixReviewTime','reviewTime','summary'],inplace=True,axis=1)\r\n",
        "lawn_df.drop(['reviewerID','asin','reviewerName','helpful','unixReviewTime','reviewTime','summary'],inplace=True,axis=1)\r\n",
        "toys_df.drop(['reviewerID','asin','reviewerName','helpful','unixReviewTime','reviewTime','summary'],inplace=True,axis=1)\r\n",
        "pet_df.drop(['reviewerID','asin','reviewerName','helpful','unixReviewTime','reviewTime','summary'],inplace=True,axis=1)\r\n"
      ],
      "outputs": [],
      "metadata": {
        "id": "8MJI6OuZKoMy"
      }
    },
    {
      "cell_type": "markdown",
      "source": [
        "###### Category assignment "
      ],
      "metadata": {
        "id": "WiXBenkKOP9e"
      }
    },
    {
      "cell_type": "code",
      "execution_count": null,
      "source": [
        "beauty_df['category']= 'beauty'\r\n",
        "grocery_df['category']= 'grocery'\r\n",
        "phone_df['category']= 'phone'\r\n",
        "music_df['category']= 'music'\r\n",
        "office_df['category']= 'office'\r\n",
        "lawn_df['category']= 'lawn'\r\n",
        "toys_df['category']= 'toy'\r\n",
        "pet_df['category']= 'pet'\r\n"
      ],
      "outputs": [],
      "metadata": {
        "id": "UGL1tJAuL2En"
      }
    },
    {
      "cell_type": "markdown",
      "source": [
        "### concat all the  categories"
      ],
      "metadata": {
        "id": "2zS3km66OUOj"
      }
    },
    {
      "cell_type": "code",
      "execution_count": null,
      "source": [
        "master_data= pd.concat([beauty_df,grocery_df,phone_df,music_df,office_df,lawn_df,toys_df,pet_df])"
      ],
      "outputs": [],
      "metadata": {
        "id": "5f5dMm7AOJYy"
      }
    },
    {
      "cell_type": "code",
      "execution_count": null,
      "source": [
        "master_data['category'].value_counts()"
      ],
      "outputs": [
        {
          "output_type": "execute_result",
          "data": {
            "text/plain": [
              "beauty     198502\n",
              "phone      194439\n",
              "toy        167597\n",
              "pet        157836\n",
              "grocery    151254\n",
              "office      53258\n",
              "lawn        13272\n",
              "music       10261\n",
              "Name: category, dtype: int64"
            ]
          },
          "metadata": {},
          "execution_count": 20
        }
      ],
      "metadata": {
        "colab": {
          "base_uri": "https://localhost:8080/"
        },
        "id": "bWHQbfUEOynJ",
        "outputId": "ddbd81af-c21e-4114-abf4-2b71c16ff820"
      }
    },
    {
      "cell_type": "code",
      "execution_count": null,
      "source": [
        "print(colored('Total lenght of data',\"red\"),colored(len(master_data),'green'))"
      ],
      "outputs": [
        {
          "output_type": "stream",
          "name": "stdout",
          "text": [
            "\u001b[31mTotal lenght of data\u001b[0m \u001b[32m946419\u001b[0m\n"
          ]
        }
      ],
      "metadata": {
        "colab": {
          "base_uri": "https://localhost:8080/"
        },
        "id": "LR0ekM0QO093",
        "outputId": "4a4cdfcd-2157-4183-8ba7-032faa785bf9"
      }
    },
    {
      "cell_type": "code",
      "execution_count": null,
      "source": [
        "master_data['category'].value_counts().plot(kind='barh')"
      ],
      "outputs": [
        {
          "output_type": "execute_result",
          "data": {
            "text/plain": [
              "<matplotlib.axes._subplots.AxesSubplot at 0x7fe0b6909590>"
            ]
          },
          "metadata": {},
          "execution_count": 22
        },
        {
          "output_type": "display_data",
          "data": {
            "text/plain": [
              "<Figure size 432x288 with 1 Axes>"
            ],
            "image/png": "[encoded data removed]"
          },
          "metadata": {
            "needs_background": "light"
          }
        }
      ],
      "metadata": {
        "colab": {
          "base_uri": "https://localhost:8080/",
          "height": 283
        },
        "id": "l89r2z1yP6-I",
        "outputId": "5c32527c-4ca8-4502-a018-d00ee60cdb31"
      }
    },
    {
      "cell_type": "code",
      "execution_count": null,
      "source": [
        "master_data.drop_duplicates(inplace=True)"
      ],
      "outputs": [],
      "metadata": {
        "id": "F2cuEQr-QOgl"
      }
    },
    {
      "cell_type": "code",
      "execution_count": null,
      "source": [
        "len(master_data)"
      ],
      "outputs": [
        {
          "output_type": "execute_result",
          "data": {
            "text/plain": [
              "945792"
            ]
          },
          "metadata": {},
          "execution_count": 24
        }
      ],
      "metadata": {
        "colab": {
          "base_uri": "https://localhost:8080/"
        },
        "id": "fatTdZgxQpYk",
        "outputId": "7bd7318d-0890-45b9-c954-117143699e9e"
      }
    },
    {
      "cell_type": "code",
      "execution_count": null,
      "source": [
        "master_data.dropna(inplace=True)"
      ],
      "outputs": [],
      "metadata": {
        "id": "KW4oqnQoQtx8"
      }
    },
    {
      "cell_type": "code",
      "execution_count": null,
      "source": [
        "len(master_data)"
      ],
      "outputs": [
        {
          "output_type": "execute_result",
          "data": {
            "text/plain": [
              "945792"
            ]
          },
          "metadata": {},
          "execution_count": 26
        }
      ],
      "metadata": {
        "colab": {
          "base_uri": "https://localhost:8080/"
        },
        "id": "uROWnZH_Q0cl",
        "outputId": "fab6f389-fab4-4bf9-9375-a0f10bd719ad"
      }
    },
    {
      "cell_type": "code",
      "execution_count": null,
      "source": [
        "master_data['category'].value_counts().plot(kind='barh')"
      ],
      "outputs": [
        {
          "output_type": "execute_result",
          "data": {
            "text/plain": [
              "<matplotlib.axes._subplots.AxesSubplot at 0x7fe0b89611d0>"
            ]
          },
          "metadata": {},
          "execution_count": 27
        },
        {
          "output_type": "display_data",
          "data": {
            "text/plain": [
              "<Figure size 432x288 with 1 Axes>"
            ],
            "image/png": "[encoded data removed]"
          },
          "metadata": {
            "needs_background": "light"
          }
        }
      ],
      "metadata": {
        "colab": {
          "base_uri": "https://localhost:8080/",
          "height": 283
        },
        "id": "G6tXLIYGXsQQ",
        "outputId": "603f52a0-d9a2-4215-a50e-a56e68c8b84d"
      }
    },
    {
      "cell_type": "code",
      "execution_count": null,
      "source": [
        "master_data.head(10)"
      ],
      "outputs": [
        {
          "output_type": "execute_result",
          "data": {
            "text/plain": [
              "                                          reviewText  overall category\n",
              "0  Very oily and creamy. Not at all what I expect...      1.0   beauty\n",
              "1  This palette was a decent price and I was look...      3.0   beauty\n",
              "2  The texture of this concealer pallet is fantas...      4.0   beauty\n",
              "3  I really can't tell what exactly this thing is...      2.0   beauty\n",
              "4  It was a little smaller than I expected, but t...      3.0   beauty\n",
              "5  I was very happy to get this palette, now I wi...      5.0   beauty\n",
              "6  PLEASE DONT DO IT! this just rachett the palet...      1.0   beauty\n",
              "7  Chalky,Not Pigmented,Wears off easily,Not a Co...      2.0   beauty\n",
              "8  Did nothing for me. Stings when I put it on. I...      2.0   beauty\n",
              "9  I bought this product to get rid of the dark s...      3.0   beauty"
            ],
            "text/html": [
              "<div>\n",
              "<style scoped>\n",
              "    .dataframe tbody tr th:only-of-type {\n",
              "        vertical-align: middle;\n",
              "    }\n",
              "\n",
              "    .dataframe tbody tr th {\n",
              "        vertical-align: top;\n",
              "    }\n",
              "\n",
              "    .dataframe thead th {\n",
              "        text-align: right;\n",
              "    }\n",
              "</style>\n",
              "<table border=\"1\" class=\"dataframe\">\n",
              "  <thead>\n",
              "    <tr style=\"text-align: right;\">\n",
              "      <th></th>\n",
              "      <th>reviewText</th>\n",
              "      <th>overall</th>\n",
              "      <th>category</th>\n",
              "    </tr>\n",
              "  </thead>\n",
              "  <tbody>\n",
              "    <tr>\n",
              "      <th>0</th>\n",
              "      <td>Very oily and creamy. Not at all what I expect...</td>\n",
              "      <td>1.0</td>\n",
              "      <td>beauty</td>\n",
              "    </tr>\n",
              "    <tr>\n",
              "      <th>1</th>\n",
              "      <td>This palette was a decent price and I was look...</td>\n",
              "      <td>3.0</td>\n",
              "      <td>beauty</td>\n",
              "    </tr>\n",
              "    <tr>\n",
              "      <th>2</th>\n",
              "      <td>The texture of this concealer pallet is fantas...</td>\n",
              "      <td>4.0</td>\n",
              "      <td>beauty</td>\n",
              "    </tr>\n",
              "    <tr>\n",
              "      <th>3</th>\n",
              "      <td>I really can't tell what exactly this thing is...</td>\n",
              "      <td>2.0</td>\n",
              "      <td>beauty</td>\n",
              "    </tr>\n",
              "    <tr>\n",
              "      <th>4</th>\n",
              "      <td>It was a little smaller than I expected, but t...</td>\n",
              "      <td>3.0</td>\n",
              "      <td>beauty</td>\n",
              "    </tr>\n",
              "    <tr>\n",
              "      <th>5</th>\n",
              "      <td>I was very happy to get this palette, now I wi...</td>\n",
              "      <td>5.0</td>\n",
              "      <td>beauty</td>\n",
              "    </tr>\n",
              "    <tr>\n",
              "      <th>6</th>\n",
              "      <td>PLEASE DONT DO IT! this just rachett the palet...</td>\n",
              "      <td>1.0</td>\n",
              "      <td>beauty</td>\n",
              "    </tr>\n",
              "    <tr>\n",
              "      <th>7</th>\n",
              "      <td>Chalky,Not Pigmented,Wears off easily,Not a Co...</td>\n",
              "      <td>2.0</td>\n",
              "      <td>beauty</td>\n",
              "    </tr>\n",
              "    <tr>\n",
              "      <th>8</th>\n",
              "      <td>Did nothing for me. Stings when I put it on. I...</td>\n",
              "      <td>2.0</td>\n",
              "      <td>beauty</td>\n",
              "    </tr>\n",
              "    <tr>\n",
              "      <th>9</th>\n",
              "      <td>I bought this product to get rid of the dark s...</td>\n",
              "      <td>3.0</td>\n",
              "      <td>beauty</td>\n",
              "    </tr>\n",
              "  </tbody>\n",
              "</table>\n",
              "</div>"
            ]
          },
          "metadata": {},
          "execution_count": 28
        }
      ],
      "metadata": {
        "colab": {
          "base_uri": "https://localhost:8080/",
          "height": 363
        },
        "id": "zfp7zdKdt-l1",
        "outputId": "585d7909-16bc-4497-df5d-abb4d74efddb"
      }
    },
    {
      "cell_type": "markdown",
      "source": [
        "# Data Cleaning "
      ],
      "metadata": {
        "id": "tJhEOzqARcin"
      }
    },
    {
      "cell_type": "code",
      "execution_count": null,
      "source": [
        "def clean(text):\r\n",
        "  text= text.lower()\r\n",
        "  text=re.sub(r'http:\\S+',' ',text,flags=re.MULTILINE)\r\n",
        "  text=contr.fix(text)\r\n",
        "  text=re.sub('[^A-Za-z]',' ',text)\r\n",
        "  text=re.sub(r'\\.+',' ',text)\r\n",
        "  tokens=word_tokenize(text)\r\n",
        "  text= [word for word in tokens if word not in stop_words]\r\n",
        "  text=[word for word in text if word not in string.punctuation]\r\n",
        "  return ' '.join(text)\r\n",
        "\r\n",
        "  "
      ],
      "outputs": [],
      "metadata": {
        "id": "dtfqebUJQ2EU"
      }
    },
    {
      "cell_type": "code",
      "execution_count": null,
      "source": [
        "master_data['cleaned_text'] = master_data['reviewText'].apply(lambda x: clean(x))"
      ],
      "outputs": [],
      "metadata": {
        "id": "2tJFCxzTrWnL"
      }
    },
    {
      "cell_type": "code",
      "execution_count": null,
      "source": [
        "master_data.head(2)"
      ],
      "outputs": [
        {
          "output_type": "execute_result",
          "data": {
            "text/plain": [
              "                                          reviewText  overall category  \\\n",
              "0  Very oily and creamy. Not at all what I expect...      1.0   beauty   \n",
              "1  This palette was a decent price and I was look...      3.0   beauty   \n",
              "\n",
              "                                        cleaned_text  \n",
              "0  oily creamy expected ordered try highlight con...  \n",
              "1  palette decent price looking different shades ...  "
            ],
            "text/html": [
              "<div>\n",
              "<style scoped>\n",
              "    .dataframe tbody tr th:only-of-type {\n",
              "        vertical-align: middle;\n",
              "    }\n",
              "\n",
              "    .dataframe tbody tr th {\n",
              "        vertical-align: top;\n",
              "    }\n",
              "\n",
              "    .dataframe thead th {\n",
              "        text-align: right;\n",
              "    }\n",
              "</style>\n",
              "<table border=\"1\" class=\"dataframe\">\n",
              "  <thead>\n",
              "    <tr style=\"text-align: right;\">\n",
              "      <th></th>\n",
              "      <th>reviewText</th>\n",
              "      <th>overall</th>\n",
              "      <th>category</th>\n",
              "      <th>cleaned_text</th>\n",
              "    </tr>\n",
              "  </thead>\n",
              "  <tbody>\n",
              "    <tr>\n",
              "      <th>0</th>\n",
              "      <td>Very oily and creamy. Not at all what I expect...</td>\n",
              "      <td>1.0</td>\n",
              "      <td>beauty</td>\n",
              "      <td>oily creamy expected ordered try highlight con...</td>\n",
              "    </tr>\n",
              "    <tr>\n",
              "      <th>1</th>\n",
              "      <td>This palette was a decent price and I was look...</td>\n",
              "      <td>3.0</td>\n",
              "      <td>beauty</td>\n",
              "      <td>palette decent price looking different shades ...</td>\n",
              "    </tr>\n",
              "  </tbody>\n",
              "</table>\n",
              "</div>"
            ]
          },
          "metadata": {},
          "execution_count": 31
        }
      ],
      "metadata": {
        "colab": {
          "base_uri": "https://localhost:8080/",
          "height": 112
        },
        "id": "FXEFDVSuUVJQ",
        "outputId": "4b23702c-f3b2-4cfb-82d8-a67bcaf09268"
      }
    },
    {
      "cell_type": "code",
      "execution_count": null,
      "source": [
        "category_label={'beauty':0,'grocery':1,'phone':2,'music':3,'office':4,'lawn':5,'toy':6,'pet':7}\r\n",
        "master_data['label'] = master_data['category'].map(category_label)"
      ],
      "outputs": [],
      "metadata": {
        "id": "fpUV_yr-fumm"
      }
    },
    {
      "cell_type": "code",
      "execution_count": null,
      "source": [
        "master_data.head()"
      ],
      "outputs": [
        {
          "output_type": "execute_result",
          "data": {
            "text/plain": [
              "                                          reviewText  overall category  \\\n",
              "0  Very oily and creamy. Not at all what I expect...      1.0   beauty   \n",
              "1  This palette was a decent price and I was look...      3.0   beauty   \n",
              "2  The texture of this concealer pallet is fantas...      4.0   beauty   \n",
              "3  I really can't tell what exactly this thing is...      2.0   beauty   \n",
              "4  It was a little smaller than I expected, but t...      3.0   beauty   \n",
              "\n",
              "                                        cleaned_text  label  \n",
              "0  oily creamy expected ordered try highlight con...      0  \n",
              "1  palette decent price looking different shades ...      0  \n",
              "2  texture concealer pallet fantastic great cover...      0  \n",
              "3  really tell exactly thing powder kind oil ish ...      0  \n",
              "4  little smaller expected okay lasted long time ...      0  "
            ],
            "text/html": [
              "<div>\n",
              "<style scoped>\n",
              "    .dataframe tbody tr th:only-of-type {\n",
              "        vertical-align: middle;\n",
              "    }\n",
              "\n",
              "    .dataframe tbody tr th {\n",
              "        vertical-align: top;\n",
              "    }\n",
              "\n",
              "    .dataframe thead th {\n",
              "        text-align: right;\n",
              "    }\n",
              "</style>\n",
              "<table border=\"1\" class=\"dataframe\">\n",
              "  <thead>\n",
              "    <tr style=\"text-align: right;\">\n",
              "      <th></th>\n",
              "      <th>reviewText</th>\n",
              "      <th>overall</th>\n",
              "      <th>category</th>\n",
              "      <th>cleaned_text</th>\n",
              "      <th>label</th>\n",
              "    </tr>\n",
              "  </thead>\n",
              "  <tbody>\n",
              "    <tr>\n",
              "      <th>0</th>\n",
              "      <td>Very oily and creamy. Not at all what I expect...</td>\n",
              "      <td>1.0</td>\n",
              "      <td>beauty</td>\n",
              "      <td>oily creamy expected ordered try highlight con...</td>\n",
              "      <td>0</td>\n",
              "    </tr>\n",
              "    <tr>\n",
              "      <th>1</th>\n",
              "      <td>This palette was a decent price and I was look...</td>\n",
              "      <td>3.0</td>\n",
              "      <td>beauty</td>\n",
              "      <td>palette decent price looking different shades ...</td>\n",
              "      <td>0</td>\n",
              "    </tr>\n",
              "    <tr>\n",
              "      <th>2</th>\n",
              "      <td>The texture of this concealer pallet is fantas...</td>\n",
              "      <td>4.0</td>\n",
              "      <td>beauty</td>\n",
              "      <td>texture concealer pallet fantastic great cover...</td>\n",
              "      <td>0</td>\n",
              "    </tr>\n",
              "    <tr>\n",
              "      <th>3</th>\n",
              "      <td>I really can't tell what exactly this thing is...</td>\n",
              "      <td>2.0</td>\n",
              "      <td>beauty</td>\n",
              "      <td>really tell exactly thing powder kind oil ish ...</td>\n",
              "      <td>0</td>\n",
              "    </tr>\n",
              "    <tr>\n",
              "      <th>4</th>\n",
              "      <td>It was a little smaller than I expected, but t...</td>\n",
              "      <td>3.0</td>\n",
              "      <td>beauty</td>\n",
              "      <td>little smaller expected okay lasted long time ...</td>\n",
              "      <td>0</td>\n",
              "    </tr>\n",
              "  </tbody>\n",
              "</table>\n",
              "</div>"
            ]
          },
          "metadata": {},
          "execution_count": 33
        }
      ],
      "metadata": {
        "colab": {
          "base_uri": "https://localhost:8080/",
          "height": 206
        },
        "id": "jxD3WJ6vj-PQ",
        "outputId": "7cc35c81-e08a-492b-9956-7f32a80e82bc"
      }
    },
    {
      "cell_type": "code",
      "execution_count": null,
      "source": [
        "data= master_data[['cleaned_text','label']]"
      ],
      "outputs": [],
      "metadata": {
        "id": "neLryS2QkDPs"
      }
    },
    {
      "cell_type": "code",
      "execution_count": null,
      "source": [
        "data.head()"
      ],
      "outputs": [
        {
          "output_type": "execute_result",
          "data": {
            "text/plain": [
              "                                        cleaned_text  label\n",
              "0  oily creamy expected ordered try highlight con...      0\n",
              "1  palette decent price looking different shades ...      0\n",
              "2  texture concealer pallet fantastic great cover...      0\n",
              "3  really tell exactly thing powder kind oil ish ...      0\n",
              "4  little smaller expected okay lasted long time ...      0"
            ],
            "text/html": [
              "<div>\n",
              "<style scoped>\n",
              "    .dataframe tbody tr th:only-of-type {\n",
              "        vertical-align: middle;\n",
              "    }\n",
              "\n",
              "    .dataframe tbody tr th {\n",
              "        vertical-align: top;\n",
              "    }\n",
              "\n",
              "    .dataframe thead th {\n",
              "        text-align: right;\n",
              "    }\n",
              "</style>\n",
              "<table border=\"1\" class=\"dataframe\">\n",
              "  <thead>\n",
              "    <tr style=\"text-align: right;\">\n",
              "      <th></th>\n",
              "      <th>cleaned_text</th>\n",
              "      <th>label</th>\n",
              "    </tr>\n",
              "  </thead>\n",
              "  <tbody>\n",
              "    <tr>\n",
              "      <th>0</th>\n",
              "      <td>oily creamy expected ordered try highlight con...</td>\n",
              "      <td>0</td>\n",
              "    </tr>\n",
              "    <tr>\n",
              "      <th>1</th>\n",
              "      <td>palette decent price looking different shades ...</td>\n",
              "      <td>0</td>\n",
              "    </tr>\n",
              "    <tr>\n",
              "      <th>2</th>\n",
              "      <td>texture concealer pallet fantastic great cover...</td>\n",
              "      <td>0</td>\n",
              "    </tr>\n",
              "    <tr>\n",
              "      <th>3</th>\n",
              "      <td>really tell exactly thing powder kind oil ish ...</td>\n",
              "      <td>0</td>\n",
              "    </tr>\n",
              "    <tr>\n",
              "      <th>4</th>\n",
              "      <td>little smaller expected okay lasted long time ...</td>\n",
              "      <td>0</td>\n",
              "    </tr>\n",
              "  </tbody>\n",
              "</table>\n",
              "</div>"
            ]
          },
          "metadata": {},
          "execution_count": 35
        }
      ],
      "metadata": {
        "colab": {
          "base_uri": "https://localhost:8080/",
          "height": 206
        },
        "id": "cXN-rdnKkBpD",
        "outputId": "9b3dc51b-eafd-44cb-b9d2-5d9c0af6b589"
      }
    },
    {
      "cell_type": "code",
      "execution_count": null,
      "source": [
        "data['label'].dtype"
      ],
      "outputs": [
        {
          "output_type": "execute_result",
          "data": {
            "text/plain": [
              "dtype('int64')"
            ]
          },
          "metadata": {},
          "execution_count": 36
        }
      ],
      "metadata": {
        "colab": {
          "base_uri": "https://localhost:8080/"
        },
        "id": "0ZaVvUubkTtu",
        "outputId": "f3d36ccb-a454-4e54-bafa-50b247267294"
      }
    },
    {
      "cell_type": "code",
      "execution_count": null,
      "source": [
        "data['cleaned_text_len'] = data['cleaned_text'].apply(lambda x: len(x.split()))"
      ],
      "outputs": [
        {
          "output_type": "stream",
          "name": "stderr",
          "text": [
            "/usr/local/lib/python3.7/dist-packages/ipykernel_launcher.py:1: SettingWithCopyWarning: \n",
            "A value is trying to be set on a copy of a slice from a DataFrame.\n",
            "Try using .loc[row_indexer,col_indexer] = value instead\n",
            "\n",
            "See the caveats in the documentation: https://pandas.pydata.org/pandas-docs/stable/user_guide/indexing.html#returning-a-view-versus-a-copy\n",
            "  \"\"\"Entry point for launching an IPython kernel.\n"
          ]
        }
      ],
      "metadata": {
        "colab": {
          "base_uri": "https://localhost:8080/"
        },
        "id": "4GW21d6ZqoMz",
        "outputId": "ca840f12-f0c3-42da-b7fa-46ac7161955f"
      }
    },
    {
      "cell_type": "code",
      "execution_count": null,
      "source": [
        "max(data['cleaned_text_len'])"
      ],
      "outputs": [
        {
          "output_type": "execute_result",
          "data": {
            "text/plain": [
              "3090"
            ]
          },
          "metadata": {},
          "execution_count": 38
        }
      ],
      "metadata": {
        "colab": {
          "base_uri": "https://localhost:8080/"
        },
        "id": "VnqJcGPO-A0K",
        "outputId": "3bf52761-775d-4e6e-b355-52d8a64c6e5c"
      }
    },
    {
      "cell_type": "code",
      "execution_count": null,
      "source": [
        "min(data['cleaned_text_len'])"
      ],
      "outputs": [
        {
          "output_type": "execute_result",
          "data": {
            "text/plain": [
              "0"
            ]
          },
          "metadata": {},
          "execution_count": 39
        }
      ],
      "metadata": {
        "colab": {
          "base_uri": "https://localhost:8080/"
        },
        "id": "ms_ikj2h3lUF",
        "outputId": "7bee8363-ea35-4856-c174-b8d3882a66eb"
      }
    },
    {
      "cell_type": "code",
      "execution_count": null,
      "source": [
        "len(data[data['cleaned_text_len']==600])"
      ],
      "outputs": [
        {
          "output_type": "execute_result",
          "data": {
            "text/plain": [
              "7"
            ]
          },
          "metadata": {},
          "execution_count": 40
        }
      ],
      "metadata": {
        "colab": {
          "base_uri": "https://localhost:8080/"
        },
        "id": "FfEMzHIF-_Mp",
        "outputId": "0d9e6d64-635b-4b08-acb6-a34a721a5508"
      }
    },
    {
      "cell_type": "code",
      "execution_count": null,
      "source": [
        "data.iloc[8000]"
      ],
      "outputs": [
        {
          "output_type": "execute_result",
          "data": {
            "text/plain": [
              "cleaned_text        made hair super soft smells really good actual...\n",
              "label                                                               0\n",
              "cleaned_text_len                                                   13\n",
              "Name: 8001, dtype: object"
            ]
          },
          "metadata": {},
          "execution_count": 41
        }
      ],
      "metadata": {
        "colab": {
          "base_uri": "https://localhost:8080/"
        },
        "id": "ebOWLL6__qqF",
        "outputId": "1a19d9dc-a586-4728-9af0-cf3f2ccf9be0"
      }
    },
    {
      "cell_type": "code",
      "execution_count": null,
      "source": [
        "plt.hist(data['cleaned_text_len'],range=(0,600));"
      ],
      "outputs": [
        {
          "output_type": "display_data",
          "data": {
            "text/plain": [
              "<Figure size 432x288 with 1 Axes>"
            ],
            "image/png": "[encoded data removed]"
          },
          "metadata": {
            "needs_background": "light"
          }
        }
      ],
      "metadata": {
        "colab": {
          "base_uri": "https://localhost:8080/",
          "height": 265
        },
        "id": "fY4FV51G-Mei",
        "outputId": "f8d5b95f-d58b-47ff-9e9a-154392585ecb"
      }
    },
    {
      "cell_type": "code",
      "execution_count": null,
      "source": [
        "#Dropping the rows which have no words after cleaning\r\n",
        "drop_list_0=data[data['cleaned_text_len']==0].index\r\n",
        "drop_list_1=data[data['cleaned_text_len']==1].index\r\n",
        "drop_list= drop_list_0.append(drop_list_1)\r\n",
        "drop_list"
      ],
      "outputs": [
        {
          "output_type": "execute_result",
          "data": {
            "text/plain": [
              "Int64Index([   114,   2042,   9673,  22703,  36314,  93640, 138544, 157259,\n",
              "            196005,   3530,\n",
              "            ...\n",
              "            140840, 141651, 141697, 142673, 147936, 148218, 152572, 154060,\n",
              "            154886, 157745],\n",
              "           dtype='int64', length=676)"
            ]
          },
          "metadata": {},
          "execution_count": 43
        }
      ],
      "metadata": {
        "colab": {
          "base_uri": "https://localhost:8080/"
        },
        "id": "0OlI9fQbrPzR",
        "outputId": "921e11c8-a3e7-4620-f771-866ef0967ba5"
      }
    },
    {
      "cell_type": "code",
      "execution_count": null,
      "source": [
        "len(drop_list)"
      ],
      "outputs": [
        {
          "output_type": "execute_result",
          "data": {
            "text/plain": [
              "676"
            ]
          },
          "metadata": {},
          "execution_count": 44
        }
      ],
      "metadata": {
        "colab": {
          "base_uri": "https://localhost:8080/"
        },
        "id": "dsbWhPhmvxO-",
        "outputId": "39c42605-836e-4c11-9e01-80ed8ee4e915"
      }
    },
    {
      "cell_type": "code",
      "execution_count": null,
      "source": [
        "data.drop(index=drop_list,inplace=True,errors='raise')"
      ],
      "outputs": [
        {
          "output_type": "stream",
          "name": "stderr",
          "text": [
            "/usr/local/lib/python3.7/dist-packages/pandas/core/frame.py:4174: SettingWithCopyWarning: \n",
            "A value is trying to be set on a copy of a slice from a DataFrame\n",
            "\n",
            "See the caveats in the documentation: https://pandas.pydata.org/pandas-docs/stable/user_guide/indexing.html#returning-a-view-versus-a-copy\n",
            "  errors=errors,\n"
          ]
        }
      ],
      "metadata": {
        "colab": {
          "base_uri": "https://localhost:8080/"
        },
        "id": "S6rQ8czruteD",
        "outputId": "730419c4-e480-484e-fd3a-0730e68577cf"
      }
    },
    {
      "cell_type": "markdown",
      "source": [
        "###### Splitting the data and shuffle it "
      ],
      "metadata": {
        "id": "L3fqbpO7EnKQ"
      }
    },
    {
      "cell_type": "code",
      "execution_count": null,
      "source": [
        "#Training Samples\r\n",
        "train_class_0= data[data['label']==0][0:9000]\r\n",
        "train_class_1= data[data['label']==1][0:9000]\r\n",
        "train_class_2= data[data['label']==2][0:9000]\r\n",
        "train_class_3= data[data['label']==3][0:9000]\r\n",
        "train_class_4= data[data['label']==4][0:9000]\r\n",
        "train_class_5= data[data['label']==5][0:9000]\r\n",
        "train_class_6= data[data['label']==6][0:9000]\r\n",
        "train_class_7= data[data['label']==7][0:9000]\r\n",
        "\r\n",
        "#Testing Samples\r\n",
        "test_class_0= data[data['label']==0][9000:10000]\r\n",
        "test_class_1= data[data['label']==1][9000:10000]\r\n",
        "test_class_2= data[data['label']==2][9000:10000]\r\n",
        "test_class_3= data[data['label']==3][9000:10000]\r\n",
        "test_class_4= data[data['label']==4][9000:10000]\r\n",
        "test_class_5= data[data['label']==5][9000:10000]\r\n",
        "test_class_6= data[data['label']==6][9000:10000]\r\n",
        "test_class_7= data[data['label']==7][9000:10000]\r\n"
      ],
      "outputs": [],
      "metadata": {
        "id": "AWPNAnuVExC7"
      }
    },
    {
      "cell_type": "code",
      "execution_count": null,
      "source": [
        "train_sample= pd.concat([train_class_0,train_class_1,train_class_2,train_class_3,train_class_4,train_class_5,train_class_6,train_class_7])"
      ],
      "outputs": [],
      "metadata": {
        "id": "ZF1ZEK1xJhJI"
      }
    },
    {
      "cell_type": "code",
      "execution_count": null,
      "source": [
        "len(train_sample)"
      ],
      "outputs": [
        {
          "output_type": "execute_result",
          "data": {
            "text/plain": [
              "72000"
            ]
          },
          "metadata": {},
          "execution_count": 48
        }
      ],
      "metadata": {
        "colab": {
          "base_uri": "https://localhost:8080/"
        },
        "id": "J1uX1oaNKW--",
        "outputId": "72ec8b2b-893a-469f-f86d-06986c20b894"
      }
    },
    {
      "cell_type": "code",
      "execution_count": null,
      "source": [
        "train=train_sample.sample(frac=1)"
      ],
      "outputs": [],
      "metadata": {
        "id": "9lPIFas1Nsde"
      }
    },
    {
      "cell_type": "code",
      "execution_count": null,
      "source": [
        "test_sample= pd.concat([test_class_0,test_class_1,test_class_2,test_class_3,test_class_4,test_class_5,test_class_6,test_class_7])"
      ],
      "outputs": [],
      "metadata": {
        "id": "CELCp5B-KGFX"
      }
    },
    {
      "cell_type": "code",
      "execution_count": null,
      "source": [
        "len(test_sample)"
      ],
      "outputs": [
        {
          "output_type": "execute_result",
          "data": {
            "text/plain": [
              "8000"
            ]
          },
          "metadata": {},
          "execution_count": 51
        }
      ],
      "metadata": {
        "colab": {
          "base_uri": "https://localhost:8080/"
        },
        "id": "o7QwGyoIKjje",
        "outputId": "cfae1184-0c95-4183-fb3a-0d30c2cace97"
      }
    },
    {
      "cell_type": "code",
      "execution_count": null,
      "source": [
        "test=test_sample.sample(frac=1)"
      ],
      "outputs": [],
      "metadata": {
        "id": "Cwjxv-57Nr0J"
      }
    },
    {
      "cell_type": "code",
      "execution_count": null,
      "source": [
        "X_train=np.array(train['cleaned_text'])\r\n",
        "y_train=np.array(train['label'])\r\n",
        "X_test=np.array(test['cleaned_text'])\r\n",
        "y_test=np.array(test['label'])"
      ],
      "outputs": [],
      "metadata": {
        "id": "bj3een9KOPf-"
      }
    },
    {
      "cell_type": "code",
      "execution_count": null,
      "source": [
        "# X_train,X_test,y_train,y_test= train_test_split(data['cleaned_text'],data['label'],random_state=60,test_size=0.2)"
      ],
      "outputs": [],
      "metadata": {
        "id": "7iZb3bk2kaRV"
      }
    },
    {
      "cell_type": "code",
      "execution_count": null,
      "source": [
        "print(X_train.shape)\r\n",
        "print(X_test.shape)\r\n",
        "print(y_train.shape)\r\n",
        "print(y_test.shape)\r\n"
      ],
      "outputs": [
        {
          "output_type": "stream",
          "name": "stdout",
          "text": [
            "(72000,)\n",
            "(8000,)\n",
            "(72000,)\n",
            "(8000,)\n"
          ]
        }
      ],
      "metadata": {
        "colab": {
          "base_uri": "https://localhost:8080/"
        },
        "id": "uRoQRQk6l_8D",
        "outputId": "94c4f055-6a21-4776-874a-1d77e4fe4281"
      }
    },
    {
      "cell_type": "markdown",
      "source": [
        "# Data Preprocessing "
      ],
      "metadata": {
        "id": "dUPs5iBhnHk9"
      }
    },
    {
      "cell_type": "code",
      "execution_count": null,
      "source": [
        "tokenizer= Tokenizer(oov_token='<UNK>')\r\n",
        "tokenizer.fit_on_texts(X_train)\r\n",
        "word_index=tokenizer.word_index"
      ],
      "outputs": [],
      "metadata": {
        "id": "uMaGzf7KmDT1"
      }
    },
    {
      "cell_type": "code",
      "execution_count": null,
      "source": [
        "len(word_index)"
      ],
      "outputs": [
        {
          "output_type": "execute_result",
          "data": {
            "text/plain": [
              "61192"
            ]
          },
          "metadata": {},
          "execution_count": 58
        }
      ],
      "metadata": {
        "colab": {
          "base_uri": "https://localhost:8080/"
        },
        "id": "rSjcOjUvm7lN",
        "outputId": "beb3cef1-f3d7-451f-a6ad-aa42b746abf7"
      }
    },
    {
      "cell_type": "code",
      "execution_count": null,
      "source": [
        "vocab_size=len(word_index) + 1"
      ],
      "outputs": [],
      "metadata": {
        "id": "3EbYPMRmoSaX"
      }
    },
    {
      "cell_type": "code",
      "execution_count": null,
      "source": [
        "max_length=120\r\n",
        "embedding_dim=100\r\n",
        "trunc_type='post'\r\n",
        "padding_type='post'"
      ],
      "outputs": [],
      "metadata": {
        "id": "qPJpbjIMod77"
      }
    },
    {
      "cell_type": "code",
      "execution_count": null,
      "source": [
        "train_sequence=tokenizer.texts_to_sequences(X_train)\r\n",
        "test_sequence= tokenizer.texts_to_sequences(X_test)\r\n"
      ],
      "outputs": [],
      "metadata": {
        "id": "I7mumqCVEp9f"
      }
    },
    {
      "cell_type": "markdown",
      "source": [
        "##Padding "
      ],
      "metadata": {
        "id": "B2Z301zZIdvQ"
      }
    },
    {
      "cell_type": "code",
      "execution_count": null,
      "source": [
        "train_padded= pad_sequences(train_sequence,maxlen=max_length,padding=padding_type,truncating=trunc_type)\r\n",
        "test_padded= pad_sequences(test_sequence,maxlen=max_length,padding=padding_type,truncating=trunc_type)"
      ],
      "outputs": [],
      "metadata": {
        "id": "no9xrWbbICGJ"
      }
    },
    {
      "cell_type": "markdown",
      "source": [
        "#### To check if reverse word can be found from word_index"
      ],
      "metadata": {
        "id": "f8p43fP4V07y"
      }
    },
    {
      "cell_type": "code",
      "execution_count": null,
      "source": [
        "reverse_word_index=dict([(value,key) for (key,value) in word_index.items()])"
      ],
      "outputs": [],
      "metadata": {
        "id": "rxfWlxJvIrkt"
      }
    },
    {
      "cell_type": "code",
      "execution_count": null,
      "source": [
        "reverse_word_index[1]"
      ],
      "outputs": [
        {
          "output_type": "execute_result",
          "data": {
            "text/plain": [
              "'<UNK>'"
            ],
            "application/vnd.google.colaboratory.intrinsic+json": {
              "type": "string"
            }
          },
          "metadata": {},
          "execution_count": 70
        }
      ],
      "metadata": {
        "colab": {
          "base_uri": "https://localhost:8080/",
          "height": 36
        },
        "id": "suoqqYeaVsp1",
        "outputId": "fed7c02a-5d7c-4a6f-c070-441233346383"
      }
    },
    {
      "cell_type": "code",
      "execution_count": null,
      "source": [
        "word_index['sometimes']"
      ],
      "outputs": [
        {
          "output_type": "execute_result",
          "data": {
            "text/plain": [
              "277"
            ]
          },
          "metadata": {},
          "execution_count": 72
        }
      ],
      "metadata": {
        "colab": {
          "base_uri": "https://localhost:8080/"
        },
        "id": "ZqPuVavyVwUQ",
        "outputId": "1fed08b0-7417-4e4c-f349-da37ede21899"
      }
    },
    {
      "cell_type": "code",
      "execution_count": null,
      "source": [
        "def decode_sentence(text):\r\n",
        "  return \" \".join([reverse_word_index.get(i,'?') for i in text])"
      ],
      "outputs": [],
      "metadata": {
        "id": "0rO0_LxRVzjY"
      }
    },
    {
      "cell_type": "code",
      "execution_count": null,
      "source": [
        "decode_sentence(test_padded[0])"
      ],
      "outputs": [
        {
          "output_type": "execute_result",
          "data": {
            "text/plain": [
              "'bought shredder good reviews using year happy decided two much less expensive shredders hold long pain use going spend money better one certainly good decision problems fellowes ps cs paid amazon note oil frequently instructed heavily used know supposed strong enough handle staples enough nerve try since broke last shredder handled bunch cds problem love pull drawer take top pros strong sturdy <UNK> credit cards <UNK> cd <UNK> easy <UNK> appealing although black blue appears picture cons whole bottom little flimsy could made stronger problem need move shredder around lot kept one place issue ? ? ? ? ? ? ? ? ? ? ? ? ? ? ? ? ? ? ? ? ? ? ? ? ? ?'"
            ],
            "application/vnd.google.colaboratory.intrinsic+json": {
              "type": "string"
            }
          },
          "metadata": {},
          "execution_count": 66
        }
      ],
      "metadata": {
        "colab": {
          "base_uri": "https://localhost:8080/",
          "height": 128
        },
        "id": "bqrVgHOwYNTR",
        "outputId": "c2464999-8414-437b-a72a-e5a0d0717331"
      }
    },
    {
      "cell_type": "markdown",
      "source": [
        "# Model Buiding "
      ],
      "metadata": {
        "id": "WMVOioRUYsSV"
      }
    },
    {
      "cell_type": "code",
      "execution_count": null,
      "source": [
        "model=tf.keras.Sequential([\r\n",
        "                           tf.keras.layers.Embedding(vocab_size,embedding_dim),\r\n",
        "                           tf.keras.layers.Bidirectional(tf.keras.layers.LSTM(256,dropout=0.1)),\r\n",
        "                           tf.keras.layers.Dense(8,activation='softmax')\r\n",
        "])"
      ],
      "outputs": [],
      "metadata": {
        "id": "3-i5JCLhfevM"
      }
    },
    {
      "cell_type": "code",
      "execution_count": null,
      "source": [
        "model.summary()"
      ],
      "outputs": [
        {
          "output_type": "stream",
          "name": "stdout",
          "text": [
            "Model: \"sequential_1\"\n",
            "_________________________________________________________________\n",
            "Layer (type)                 Output Shape              Param #   \n",
            "=================================================================\n",
            "embedding_1 (Embedding)      (None, None, 100)         6119300   \n",
            "_________________________________________________________________\n",
            "bidirectional_1 (Bidirection (None, 512)               731136    \n",
            "_________________________________________________________________\n",
            "dense_1 (Dense)              (None, 8)                 4104      \n",
            "=================================================================\n",
            "Total params: 6,854,540\n",
            "Trainable params: 6,854,540\n",
            "Non-trainable params: 0\n",
            "_________________________________________________________________\n"
          ]
        }
      ],
      "metadata": {
        "colab": {
          "base_uri": "https://localhost:8080/"
        },
        "id": "9recUag_antf",
        "outputId": "57dfee0c-41aa-47cc-d555-c56b5e36ce4c"
      }
    },
    {
      "cell_type": "code",
      "execution_count": null,
      "source": [
        "opt= tf.keras.optimizers.Adam(0.001)\r\n",
        "model.compile(loss='sparse_categorical_crossentropy',optimizer=opt,metrics=['accuracy'])\r\n",
        "epoch=10\r\n",
        "batch_size=700\r\n",
        "history=model.fit(train_padded,y_train,epochs=epoch,batch_size=batch_size,validation_split=0.2,verbose=2,callbacks=[EarlyStopping(monitor='val_loss',patience=3)])"
      ],
      "outputs": [
        {
          "output_type": "stream",
          "name": "stdout",
          "text": [
            "Epoch 1/10\n",
            "83/83 - 772s - loss: 1.6340 - accuracy: 0.4555 - val_loss: 0.7610 - val_accuracy: 0.8128\n",
            "Epoch 2/10\n",
            "83/83 - 805s - loss: 0.4716 - accuracy: 0.8715 - val_loss: 0.3325 - val_accuracy: 0.9059\n",
            "Epoch 3/10\n",
            "83/83 - 784s - loss: 0.2306 - accuracy: 0.9365 - val_loss: 0.2594 - val_accuracy: 0.9258\n",
            "Epoch 4/10\n",
            "83/83 - 765s - loss: 0.1414 - accuracy: 0.9611 - val_loss: 0.2367 - val_accuracy: 0.9307\n",
            "Epoch 5/10\n",
            "83/83 - 751s - loss: 0.0937 - accuracy: 0.9746 - val_loss: 0.2555 - val_accuracy: 0.9281\n",
            "Epoch 6/10\n",
            "83/83 - 750s - loss: 0.0709 - accuracy: 0.9813 - val_loss: 0.2354 - val_accuracy: 0.9299\n",
            "Epoch 7/10\n",
            "83/83 - 763s - loss: 0.0581 - accuracy: 0.9845 - val_loss: 0.2420 - val_accuracy: 0.9322\n",
            "Epoch 8/10\n",
            "83/83 - 757s - loss: 0.0441 - accuracy: 0.9882 - val_loss: 0.2533 - val_accuracy: 0.9302\n",
            "Epoch 9/10\n",
            "83/83 - 752s - loss: 0.0413 - accuracy: 0.9891 - val_loss: 0.2687 - val_accuracy: 0.9291\n"
          ]
        }
      ],
      "metadata": {
        "colab": {
          "base_uri": "https://localhost:8080/"
        },
        "id": "SnUxWcRiazeO",
        "outputId": "7bcafd2d-145d-4a66-d08b-74929b6fd6f3"
      }
    },
    {
      "cell_type": "markdown",
      "source": [
        "##### Save the model \n"
      ],
      "metadata": {
        "id": "8Ad3FU6-2NxT"
      }
    },
    {
      "cell_type": "code",
      "execution_count": null,
      "source": [
        "model.save('Amazon_Review_new.h5')"
      ],
      "outputs": [],
      "metadata": {
        "id": "cUK4m6s4cKUK"
      }
    },
    {
      "cell_type": "markdown",
      "source": [
        "###### Save the tokenizer"
      ],
      "metadata": {
        "id": "C7j9rj882Q2Z"
      }
    },
    {
      "cell_type": "code",
      "execution_count": null,
      "source": [
        "#Saving the tokenizer\r\n",
        "import pickle\r\n",
        "\r\n",
        "with open('tokenizer.pickle','wb') as handel:\r\n",
        "  pickle.dump(tokenizer,handel,protocol=pickle.HIGHEST_PROTOCOL)\r\n"
      ],
      "outputs": [],
      "metadata": {
        "id": "sFtFNRf30teJ"
      }
    },
    {
      "cell_type": "code",
      "execution_count": null,
      "source": [
        "scores = model.predict(test_padded,batch_size=60,verbose=2)"
      ],
      "outputs": [
        {
          "output_type": "stream",
          "name": "stdout",
          "text": [
            "134/134 - 43s\n"
          ]
        }
      ],
      "metadata": {
        "colab": {
          "base_uri": "https://localhost:8080/"
        },
        "id": "gw59Igow4YF2",
        "outputId": "37ada2c8-549a-4b8c-a5b4-a36ef4205a28"
      }
    },
    {
      "cell_type": "code",
      "execution_count": null,
      "source": [
        "rounded_pred= np.argmax(scores,axis=1)"
      ],
      "outputs": [],
      "metadata": {
        "id": "A5JFvcoe1l1a"
      }
    },
    {
      "cell_type": "code",
      "execution_count": null,
      "source": [],
      "outputs": [],
      "metadata": {
        "id": "kTUvy6eb8Czm"
      }
    },
    {
      "cell_type": "code",
      "execution_count": null,
      "source": [
        "plt.title('Loss'),\r\n",
        "plt.plot(history.history['loss'],label='train')\r\n",
        "plt.plot(history.history['val_loss'],label ='test')\r\n",
        "plt.legend()\r\n",
        "plt.show();"
      ],
      "outputs": [
        {
          "output_type": "display_data",
          "data": {
            "text/plain": [
              "<Figure size 432x288 with 1 Axes>"
            ],
            "image/png": "[encoded data removed]"
          },
          "metadata": {
            "needs_background": "light"
          }
        }
      ],
      "metadata": {
        "colab": {
          "base_uri": "https://localhost:8080/",
          "height": 281
        },
        "id": "RoL8yrwi5MEZ",
        "outputId": "5b1775ab-bf1d-4b23-8173-61c046e41d03"
      }
    },
    {
      "cell_type": "code",
      "execution_count": null,
      "source": [
        "plt.title('Accurracy'),\r\n",
        "plt.plot(history.history['accuracy'],label='train')\r\n",
        "plt.plot(history.history['val_accuracy'],label ='test')\r\n",
        "plt.legend()\r\n",
        "plt.show();"
      ],
      "outputs": [
        {
          "output_type": "display_data",
          "data": {
            "text/plain": [
              "<Figure size 432x288 with 1 Axes>"
            ],
            "image/png": "[encoded data removed]"
          },
          "metadata": {
            "needs_background": "light"
          }
        }
      ],
      "metadata": {
        "colab": {
          "base_uri": "https://localhost:8080/",
          "height": 281
        },
        "id": "YqgH8W3v5O-B",
        "outputId": "9a2cdd64-7cf0-44ea-d977-b57ea61bc51c"
      }
    },
    {
      "cell_type": "code",
      "execution_count": null,
      "source": [
        "class_lable= list(category_label.keys())"
      ],
      "outputs": [],
      "metadata": {
        "id": "yUyMsZyj5S0Y"
      }
    },
    {
      "cell_type": "code",
      "execution_count": null,
      "source": [
        "class_lable"
      ],
      "outputs": [
        {
          "output_type": "execute_result",
          "data": {
            "text/plain": [
              "['beauty', 'grocery', 'phone', 'music', 'office', 'lawn', 'toy', 'pet']"
            ]
          },
          "metadata": {},
          "execution_count": 79
        }
      ],
      "metadata": {
        "colab": {
          "base_uri": "https://localhost:8080/"
        },
        "id": "xbCsFsvg5ybH",
        "outputId": "b0825f5a-44f6-4bb4-9fb8-d9bce3b11ebd"
      }
    },
    {
      "cell_type": "code",
      "execution_count": null,
      "source": [
        "cm=confusion_matrix(rounded_pred,y_test)"
      ],
      "outputs": [],
      "metadata": {
        "id": "P9fDxVhO5z75"
      }
    },
    {
      "cell_type": "code",
      "execution_count": null,
      "source": [
        "fig= plt.figure(figsize=(10,10))\r\n",
        "axes= sns.heatmap(cm,annot=True,square=True,fmt='d',cbar=True,cmap=plt.cm.OrRd)\r\n",
        "axes.set_title(\"Confusion Matrix\", fontsize=20,fontweight='bold',color='Red')\r\n",
        "plt.xlabel(\"Actual\",fontweight='bold',fontsize=15)\r\n",
        "plt.ylabel(\"Model_prediction\",fontweight='bold',fontsize=15)\r\n",
        "axes.set_xticklabels(class_lable)\r\n",
        "axes.set_yticklabels(class_lable)\r\n",
        "plt.show()"
      ],
      "outputs": [],
      "metadata": {
        "id": "KMcXcCnz6Mbj"
      }
    },
    {
      "cell_type": "markdown",
      "source": [
        "#### Testing the model with test data"
      ],
      "metadata": {}
    },
    {
      "cell_type": "code",
      "execution_count": null,
      "source": [
        "txt={'''I dont know the flavor I haven't tasted it, but my indian puppy goes berserk even by its smell.\r\n",
        "Its good stuff I can tell from my dogs reaction.\r\n",
        "Dont just order it and start feeding it to your dog fullon, follow the introduction protocol for healthier outcomes.\r\n",
        "And try to soak the kibble in mild warm (not hot for god sake) water for 20 min.\r\n",
        "Your dog needs hydration more than that kibble.\r\n",
        "So the water that is left after soaking helps hydrating pup. You can make a mixture of (50%warm water +25% kibble(let it soak 20 min) add 25% normal water so that water temp. is optimum even if you dont add last 25% your pooch will still finish it all(measurements are rogue you make your own adjustments accordingly'''}\r\n",
        "seq= tokenizer.texts_to_sequences(txt)\r\n",
        "padded= pad_sequences(seq,maxlen=max_length,truncating='post',padding='post')\r\n",
        "pred=model.predict(padded)\r\n",
        "\r\n",
        "\r\n"
      ],
      "outputs": [],
      "metadata": {
        "id": "DiiUg1Tt6Pg9"
      }
    },
    {
      "cell_type": "code",
      "execution_count": null,
      "source": [
        "class_lable"
      ],
      "outputs": [
        {
          "output_type": "execute_result",
          "data": {
            "text/plain": [
              "['beauty', 'grocery', 'phone', 'music', 'office', 'lawn', 'toy', 'pet']"
            ]
          },
          "metadata": {},
          "execution_count": 83
        }
      ],
      "metadata": {
        "colab": {
          "base_uri": "https://localhost:8080/"
        },
        "id": "3Ouolen-7vRJ",
        "outputId": "6685237c-4d4b-476f-b2c5-350b6f6def0e"
      }
    },
    {
      "cell_type": "code",
      "execution_count": null,
      "source": [
        "print(pred,class_lable[np.argmax(pred)])"
      ],
      "outputs": [
        {
          "output_type": "stream",
          "name": "stdout",
          "text": [
            "[[1.02142862e-04 1.69442256e-03 5.82555003e-05 3.18790626e-05\n",
            "  3.33102507e-05 1.01184865e-04 4.58981449e-05 9.97932911e-01]] pet\n"
          ]
        }
      ],
      "metadata": {
        "colab": {
          "base_uri": "https://localhost:8080/"
        },
        "id": "7wh5e9Gs7f1S",
        "outputId": "4380a86c-6ef1-4330-ae4e-f7aff29ed18f"
      }
    },
    {
      "cell_type": "code",
      "execution_count": null,
      "source": [],
      "outputs": [],
      "metadata": {
        "colab": {
          "background_save": true
        },
        "id": "Yt8foEiI7g5L"
      }
    }
  ]
}